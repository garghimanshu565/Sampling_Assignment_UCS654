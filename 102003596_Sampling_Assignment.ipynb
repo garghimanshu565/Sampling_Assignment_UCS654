{
  "nbformat": 4,
  "nbformat_minor": 0,
  "metadata": {
    "colab": {
      "provenance": []
    },
    "kernelspec": {
      "name": "python3",
      "display_name": "Python 3"
    },
    "language_info": {
      "name": "python"
    }
  },
  "cells": [
    {
      "cell_type": "code",
      "source": [
        "from sklearn.model_selection import train_test_split\n",
        "from sklearn.metrics import accuracy_score\n",
        "from imblearn.over_sampling import RandomOverSampler, SMOTE\n",
        "from imblearn.under_sampling import RandomUnderSampler, TomekLinks, NearMiss\n",
        "from sklearn.ensemble import RandomForestClassifier\n",
        "from sklearn.tree import DecisionTreeClassifier\n",
        "from sklearn.naive_bayes import GaussianNB\n",
        "from sklearn.linear_model import LogisticRegression\n",
        "from sklearn.svm import SVC\n",
        "import numpy as np\n",
        "import pandas as pd\n"
      ],
      "metadata": {
        "id": "qYj164knjl16"
      },
      "execution_count": 92,
      "outputs": []
    },
    {
      "cell_type": "code",
      "source": [
        "url = 'https://raw.githubusercontent.com/AnjulaMehto/Sampling_Assignment/main/Creditcard_data.csv'\n",
        "data = pd.read_csv(url)"
      ],
      "metadata": {
        "id": "5HqraBGkjqhK"
      },
      "execution_count": 93,
      "outputs": []
    },
    {
      "cell_type": "code",
      "source": [
        "X = data.drop('Class', axis=1)\n",
        "y = data['Class']\n"
      ],
      "metadata": {
        "id": "Yz2LZvfyjtFd"
      },
      "execution_count": 94,
      "outputs": []
    },
    {
      "cell_type": "code",
      "source": [
        "X_train, X_test, y_train, y_test = train_test_split(X, y, test_size=0.2, random_state=8)\n"
      ],
      "metadata": {
        "id": "rboVddkWjwOK"
      },
      "execution_count": 95,
      "outputs": []
    },
    {
      "cell_type": "code",
      "source": [
        "# z-value and margin of error \n",
        "z = 2.33  # 98% confidence interval\n",
        "m = 0.05  # margin of error\n",
        "\n",
        "# sample size \n",
        "n1 = int(np.ceil((z**2 * 0.5 * 0.5) / (m**2)))\n",
        "n2 = int(np.ceil((z**2 * 0.05 * (1-0.05)) / (m**2)))\n",
        "n3 = int(np.ceil((z**2 * 0.05 * (1-0.05)) / (m**2)))\n",
        "n4 = int(np.ceil((z**2 * 0.05 * (1-0.05)) / (m**2)))\n",
        "n5 = int(np.ceil((z**2 * 0.05 * (1-0.05)) / (m**2)))\n"
      ],
      "metadata": {
        "id": "sfRNDDUYj2q5"
      },
      "execution_count": 96,
      "outputs": []
    },
    {
      "cell_type": "code",
      "source": [
        "s1 = RandomUnderSampler(sampling_strategy='majority', random_state=8)\n",
        "s2 = TomekLinks(sampling_strategy='majority')\n",
        "s3 = NearMiss(version=3, n_neighbors=3)\n",
        "s4 = RandomOverSampler(sampling_strategy='minority', random_state=8)\n",
        "s5 = SMOTE(sampling_strategy='minority', random_state=8)\n",
        "\n",
        "m1 = SVC(random_state=8)\n",
        "m2 = RandomForestClassifier(random_state=8)\n",
        "m3 = DecisionTreeClassifier(random_state=8)\n",
        "m4 = LogisticRegression(random_state=8,max_iter=500)\n",
        "m5 = GaussianNB()\n"
      ],
      "metadata": {
        "id": "PhREt4kTj5Jg"
      },
      "execution_count": 97,
      "outputs": []
    },
    {
      "cell_type": "code",
      "source": [
        "# Define a dictionary to hold the sampling techniques and models\n",
        "samplers = {\n",
        "    'Sampling1': s1,\n",
        "    'Sampling2': s2,\n",
        "    'Sampling3': s3,\n",
        "    'Sampling4': s4,\n",
        "    'Sampling5': s5,\n",
        "}\n",
        "models = {\n",
        "    'M1': m1,\n",
        "    'M2': m2,\n",
        "    'M3': m3,\n",
        "    'M4': m4,\n",
        "    'M5': m5,\n",
        "}\n",
        "\n"
      ],
      "metadata": {
        "id": "NAVjfSWVj8eK"
      },
      "execution_count": 98,
      "outputs": []
    },
    {
      "cell_type": "code",
      "source": [
        "# Evaluate each model on each sampling technique\n",
        "results = {}\n",
        "for sampler_name, sampler in samplers.items():\n",
        "    if sampler_name == 'Sampling1':\n",
        "        n = n1\n",
        "    elif sampler_name == 'Sampling2':\n",
        "        n = n2\n",
        "    elif sampler_name == 'Sampling3':\n",
        "        n = n3\n",
        "    elif sampler_name == 'Sampling4':\n",
        "        n = n4\n",
        "    else:\n",
        "        n = n5\n",
        "\n",
        "    # Undersample or oversample the training data\n",
        "    X_resampled, y_resampled = sampler.fit_resample(X_train, y_train)\n",
        "    \n",
        "    # Limit the resampled data to the sample size\n",
        "    if len(X_resampled) > n:\n",
        "        X_resampled = X_resampled[:n]\n",
        "        y_resampled = y_resampled[:n]\n",
        "    \n",
        "    for model_name, model in models.items():\n",
        "        # Train the model on the resampled data\n",
        "        model.fit(X_resampled, y_resampled)\n",
        "        \n",
        "        # Make predictions on the test data\n",
        "        y_pred = model.predict(X_test)\n",
        "        \n",
        "        # Calculate the accuracy score\n",
        "        accuracy = accuracy_score(y_test, y_pred)\n",
        "        \n",
        "        # Add the accuracy score to the results dictionary\n",
        "        if model_name in results:\n",
        "            results[model_name][sampler_name] = accuracy\n",
        "        else:\n",
        "            results[model_name] = {sampler_name: accuracy}\n"
      ],
      "metadata": {
        "id": "PTngmUTkkGnK"
      },
      "execution_count": 99,
      "outputs": []
    },
    {
      "cell_type": "code",
      "source": [
        "# Print the results\n",
        "print('Results:')\n",
        "print('     Sampling1   Sampling2   Sampling3   Sampling4   Sampling5')\n",
        "for model_name, model_results in results.items():\n",
        "    print(model_name, end='')\n",
        "    for sampler_name in samplers.keys():\n",
        "        if sampler_name in model_results:\n",
        "            print(f'    {model_results[sampler_name]:.4f}   ', end='')\n",
        "        else:\n",
        "            print('              ', end='')\n",
        "    print() \n"
      ],
      "metadata": {
        "colab": {
          "base_uri": "https://localhost:8080/"
        },
        "id": "AplHQIttkJ2G",
        "outputId": "c302bf4f-caf4-48fe-e72b-b41e6ba60a84"
      },
      "execution_count": 101,
      "outputs": [
        {
          "output_type": "stream",
          "name": "stdout",
          "text": [
            "Results:\n",
            "     Sampling1   Sampling2   Sampling3   Sampling4   Sampling5\n",
            "M1    0.4387       0.9871       0.4387       0.9871       0.9871   \n",
            "M2    0.4581       0.9871       0.6645       0.9871       0.9871   \n",
            "M3    0.4839       0.9742       0.6968       0.9742       0.9742   \n",
            "M4    0.2968       0.9613       0.3226       0.9613       0.9613   \n",
            "M5    0.2968       0.9871       0.4516       0.9871       0.9871   \n"
          ]
        }
      ]
    }
  ]
}